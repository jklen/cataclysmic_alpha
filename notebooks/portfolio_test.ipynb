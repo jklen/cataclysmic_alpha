{
 "cells": [
  {
   "cell_type": "code",
   "execution_count": 11,
   "metadata": {},
   "outputs": [],
   "source": [
    "import requests\n",
    "import json\n",
    "import pprint\n",
    "from alpaca.data.requests import CryptoBarsRequest, StockBarsRequest, StockLatestQuoteRequest, StockLatestTradeRequest, \\\n",
    "    StockQuotesRequest, StockTradesRequest\n",
    "from alpaca.data.timeframe import TimeFrame\n",
    "from datetime import datetime\n",
    "from alpaca.data.historical import CryptoHistoricalDataClient, StockHistoricalDataClient\n",
    "from alpaca.trading.client import TradingClient\n",
    "from alpaca.trading.requests import MarketOrderRequest, LimitOrderRequest, StopLimitOrderRequest, StopOrderRequest, StopLossRequest, \\\n",
    "    TrailingStopOrderRequest, TakeProfitRequest, GetOrdersRequest, ReplaceOrderRequest, ClosePositionRequest, GetOrderByIdRequest, \\\n",
    "    GetAssetsRequest, GetPortfolioHistoryRequest, CancelOrderResponse, OrderType\n",
    "from alpaca.trading.enums import OrderSide, TimeInForce, QueryOrderStatus\n",
    "from alpaca.data.live import CryptoDataStream, StockDataStream\n",
    "from alpaca.trading.stream import TradingStream\n",
    "import sys\n",
    "import yaml"
   ]
  },
  {
   "cell_type": "code",
   "execution_count": 5,
   "metadata": {},
   "outputs": [],
   "source": [
    "keys = yaml.safe_load(open('../keys.yaml', 'r'))"
   ]
  },
  {
   "cell_type": "code",
   "execution_count": 6,
   "metadata": {},
   "outputs": [],
   "source": [
    "auth_json = {'APCA-API-KEY-ID':keys['paper_key'],\n",
    "             'APCA-API-SECRET-KEY':keys['paper_secret']}"
   ]
  },
  {
   "cell_type": "code",
   "execution_count": 7,
   "metadata": {},
   "outputs": [],
   "source": [
    "trading_client = TradingClient(keys['paper_key'], keys['paper_secret'], paper=True)"
   ]
  },
  {
   "cell_type": "code",
   "execution_count": 8,
   "metadata": {},
   "outputs": [
    {
     "data": {
      "text/plain": [
       "<alpaca.trading.client.TradingClient at 0x7f239c56d120>"
      ]
     },
     "execution_count": 8,
     "metadata": {},
     "output_type": "execute_result"
    }
   ],
   "source": [
    "trading_client"
   ]
  },
  {
   "cell_type": "code",
   "execution_count": 9,
   "metadata": {},
   "outputs": [
    {
     "data": {
      "text/plain": [
       "{   'account_blocked': False,\n",
       "    'account_number': 'PA3QV61P0PVL',\n",
       "    'accrued_fees': '0',\n",
       "    'buying_power': '198669.54',\n",
       "    'cash': '97561.51',\n",
       "    'created_at': datetime.datetime(2023, 11, 28, 10, 32, 47, 48553, tzinfo=TzInfo(UTC)),\n",
       "    'crypto_status': <AccountStatus.ACTIVE: 'ACTIVE'>,\n",
       "    'currency': 'USD',\n",
       "    'daytrade_count': 0,\n",
       "    'daytrading_buying_power': '0',\n",
       "    'equity': '101108.03',\n",
       "    'id': UUID('17a56030-0ca6-4018-b571-b8bc90394b0a'),\n",
       "    'initial_margin': '1773.26',\n",
       "    'last_equity': '101098.272490556455',\n",
       "    'last_maintenance_margin': '1063.96',\n",
       "    'long_market_value': '3546.52',\n",
       "    'maintenance_margin': '1063.96',\n",
       "    'multiplier': '2',\n",
       "    'non_marginable_buying_power': '97334.77',\n",
       "    'pattern_day_trader': False,\n",
       "    'pending_transfer_in': '0',\n",
       "    'pending_transfer_out': None,\n",
       "    'portfolio_value': '101108.03',\n",
       "    'regt_buying_power': '198669.54',\n",
       "    'short_market_value': '0',\n",
       "    'shorting_enabled': True,\n",
       "    'sma': '99359.53',\n",
       "    'status': <AccountStatus.ACTIVE: 'ACTIVE'>,\n",
       "    'trade_suspended_by_user': False,\n",
       "    'trading_blocked': False,\n",
       "    'transfers_blocked': False}"
      ]
     },
     "execution_count": 9,
     "metadata": {},
     "output_type": "execute_result"
    }
   ],
   "source": [
    "account = trading_client.get_account()\n",
    "account"
   ]
  },
  {
   "cell_type": "code",
   "execution_count": null,
   "metadata": {},
   "outputs": [],
   "source": [
    "# otvorenie pozicie (long)\n",
    "\n",
    "# 1. ak bude triger na nakup,\n",
    "# 2. zober cenu z poslednej close price\n",
    "# 3. vyrataj stopp loss, take profit bude konstantnyna cca 20%\n",
    "# 4. vytvor bracket order \n",
    "market_order_data = MarketOrderRequest(\n",
    "    symbol=\"AAPL\",\n",
    "    qty=2,\n",
    "    side=OrderSide.BUY,\n",
    "    time_in_force=TimeInForce.DAY, # skor FOK - fill or kill - preda/nakupi pocet shares naraz za rovnaku cenu\n",
    "    take_profit = TakeProfitRequest(limit_price = 200),\n",
    "    stop_loss = StopLossRequest(stop_price = 185)\n",
    ")\n",
    "\n",
    "market_order = trading_client.submit_order(\n",
    "    order_data=market_order_data\n",
    ")\n",
    "# 5. nejaky chec po market open ci bol order filled tj ci bola otvorena pozicia\n",
    "\n",
    "# uzatvorenie pozicie (long)\n",
    "\n",
    "# 1. ak bude trigger na predaj\n",
    "# 2. daj rovno market order na vsetky shares daneho symbolu\n",
    "# 3. vyrataj statistiky obchodu - tesne pred predajom - https://docs.alpaca.markets/docs/position-average-entry-price-calculation\n",
    "\n",
    "# otvorenie/uzavretie pozicie short"
   ]
  },
  {
   "cell_type": "code",
   "execution_count": 13,
   "metadata": {},
   "outputs": [],
   "source": [
    "# help(ClosePositionRequest) asi podla asset id"
   ]
  },
  {
   "cell_type": "code",
   "execution_count": null,
   "metadata": {},
   "outputs": [],
   "source": []
  }
 ],
 "metadata": {
  "kernelspec": {
   "display_name": "py310_calpha",
   "language": "python",
   "name": "python3"
  },
  "language_info": {
   "codemirror_mode": {
    "name": "ipython",
    "version": 3
   },
   "file_extension": ".py",
   "mimetype": "text/x-python",
   "name": "python",
   "nbconvert_exporter": "python",
   "pygments_lexer": "ipython3",
   "version": "3.10.13"
  }
 },
 "nbformat": 4,
 "nbformat_minor": 2
}
