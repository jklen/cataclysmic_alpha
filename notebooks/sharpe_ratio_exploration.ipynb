{
 "cells": [
  {
   "cell_type": "code",
   "execution_count": 27,
   "metadata": {},
   "outputs": [],
   "source": [
    "import vectorbt as vbt\n",
    "import numpy as np\n",
    "import pandas as pd\n",
    "import yaml\n",
    "import yfinance as yf\n",
    "import quantstats as qs"
   ]
  },
  {
   "cell_type": "code",
   "execution_count": 28,
   "metadata": {},
   "outputs": [],
   "source": [
    "keys = yaml.safe_load(open('../keys.yaml', 'r'))"
   ]
  },
  {
   "cell_type": "code",
   "execution_count": 29,
   "metadata": {},
   "outputs": [
    {
     "name": "stderr",
     "output_type": "stream",
     "text": [
      "[*********************100%%**********************]  1 of 1 completed\n"
     ]
    },
    {
     "data": {
      "text/html": [
       "<div>\n",
       "<style scoped>\n",
       "    .dataframe tbody tr th:only-of-type {\n",
       "        vertical-align: middle;\n",
       "    }\n",
       "\n",
       "    .dataframe tbody tr th {\n",
       "        vertical-align: top;\n",
       "    }\n",
       "\n",
       "    .dataframe thead th {\n",
       "        text-align: right;\n",
       "    }\n",
       "</style>\n",
       "<table border=\"1\" class=\"dataframe\">\n",
       "  <thead>\n",
       "    <tr style=\"text-align: right;\">\n",
       "      <th></th>\n",
       "      <th>Open</th>\n",
       "      <th>High</th>\n",
       "      <th>Low</th>\n",
       "      <th>Close</th>\n",
       "      <th>Adj Close</th>\n",
       "      <th>Volume</th>\n",
       "    </tr>\n",
       "    <tr>\n",
       "      <th>Date</th>\n",
       "      <th></th>\n",
       "      <th></th>\n",
       "      <th></th>\n",
       "      <th></th>\n",
       "      <th></th>\n",
       "      <th></th>\n",
       "    </tr>\n",
       "  </thead>\n",
       "  <tbody>\n",
       "    <tr>\n",
       "      <th>2014-09-17</th>\n",
       "      <td>465.864014</td>\n",
       "      <td>468.174011</td>\n",
       "      <td>452.421997</td>\n",
       "      <td>457.334015</td>\n",
       "      <td>457.334015</td>\n",
       "      <td>21056800</td>\n",
       "    </tr>\n",
       "    <tr>\n",
       "      <th>2014-09-18</th>\n",
       "      <td>456.859985</td>\n",
       "      <td>456.859985</td>\n",
       "      <td>413.104004</td>\n",
       "      <td>424.440002</td>\n",
       "      <td>424.440002</td>\n",
       "      <td>34483200</td>\n",
       "    </tr>\n",
       "    <tr>\n",
       "      <th>2014-09-19</th>\n",
       "      <td>424.102997</td>\n",
       "      <td>427.834991</td>\n",
       "      <td>384.532013</td>\n",
       "      <td>394.795990</td>\n",
       "      <td>394.795990</td>\n",
       "      <td>37919700</td>\n",
       "    </tr>\n",
       "    <tr>\n",
       "      <th>2014-09-20</th>\n",
       "      <td>394.673004</td>\n",
       "      <td>423.295990</td>\n",
       "      <td>389.882996</td>\n",
       "      <td>408.903992</td>\n",
       "      <td>408.903992</td>\n",
       "      <td>36863600</td>\n",
       "    </tr>\n",
       "    <tr>\n",
       "      <th>2014-09-21</th>\n",
       "      <td>408.084991</td>\n",
       "      <td>412.425995</td>\n",
       "      <td>393.181000</td>\n",
       "      <td>398.821014</td>\n",
       "      <td>398.821014</td>\n",
       "      <td>26580100</td>\n",
       "    </tr>\n",
       "  </tbody>\n",
       "</table>\n",
       "</div>"
      ],
      "text/plain": [
       "                  Open        High         Low       Close   Adj Close  \\\n",
       "Date                                                                     \n",
       "2014-09-17  465.864014  468.174011  452.421997  457.334015  457.334015   \n",
       "2014-09-18  456.859985  456.859985  413.104004  424.440002  424.440002   \n",
       "2014-09-19  424.102997  427.834991  384.532013  394.795990  394.795990   \n",
       "2014-09-20  394.673004  423.295990  389.882996  408.903992  408.903992   \n",
       "2014-09-21  408.084991  412.425995  393.181000  398.821014  398.821014   \n",
       "\n",
       "              Volume  \n",
       "Date                  \n",
       "2014-09-17  21056800  \n",
       "2014-09-18  34483200  \n",
       "2014-09-19  37919700  \n",
       "2014-09-20  36863600  \n",
       "2014-09-21  26580100  "
      ]
     },
     "execution_count": 29,
     "metadata": {},
     "output_type": "execute_result"
    }
   ],
   "source": [
    "df = yf.download(\"BTC-USD\", start=\"2010-01-01\", end=\"2024-01-01\")\n",
    "\n",
    "# Display the data\n",
    "df.head()"
   ]
  },
  {
   "cell_type": "code",
   "execution_count": 30,
   "metadata": {},
   "outputs": [
    {
     "data": {
      "text/plain": [
       "46.53629688699568"
      ]
     },
     "execution_count": 30,
     "metadata": {},
     "output_type": "execute_result"
    }
   ],
   "source": [
    "fast_ma = vbt.MA.run(df['Close'], 37)\n",
    "slow_ma = vbt.MA.run(df['Close'], 49)\n",
    "entries = fast_ma.ma_crossed_above(slow_ma)\n",
    "exits = fast_ma.ma_crossed_below(slow_ma)\n",
    "portfolio = vbt.Portfolio.from_signals(df['Close'], entries, exits, freq = 'd', direction = 'longonly')\n",
    "portfolio.total_return()"
   ]
  },
  {
   "cell_type": "code",
   "execution_count": 31,
   "metadata": {},
   "outputs": [
    {
     "data": {
      "text/plain": [
       "1.0442862084273556"
      ]
     },
     "execution_count": 31,
     "metadata": {},
     "output_type": "execute_result"
    }
   ],
   "source": [
    "portfolio.sharpe_ratio()"
   ]
  },
  {
   "cell_type": "code",
   "execution_count": 32,
   "metadata": {},
   "outputs": [
    {
     "data": {
      "text/plain": [
       "Date\n",
       "2014-09-17    0.000000\n",
       "2014-09-18    0.000000\n",
       "2014-09-19    0.000000\n",
       "2014-09-20    0.000000\n",
       "2014-09-21    0.000000\n",
       "                ...   \n",
       "2023-12-27    0.021694\n",
       "2023-12-28   -0.018760\n",
       "2023-12-29   -0.012397\n",
       "2023-12-30    0.001366\n",
       "2023-12-31    0.002569\n",
       "Length: 3393, dtype: float64"
      ]
     },
     "execution_count": 32,
     "metadata": {},
     "output_type": "execute_result"
    }
   ],
   "source": [
    "returns = portfolio.daily_returns()\n",
    "returns"
   ]
  },
  {
   "cell_type": "code",
   "execution_count": 33,
   "metadata": {},
   "outputs": [
    {
     "data": {
      "text/plain": [
       "0.0015436572846669603"
      ]
     },
     "execution_count": 33,
     "metadata": {},
     "output_type": "execute_result"
    }
   ],
   "source": [
    "returns.mean()"
   ]
  },
  {
   "cell_type": "code",
   "execution_count": 34,
   "metadata": {},
   "outputs": [
    {
     "data": {
      "text/plain": [
       "0.05466043835218986"
      ]
     },
     "execution_count": 34,
     "metadata": {},
     "output_type": "execute_result"
    }
   ],
   "source": [
    "returns.mean()/returns.std()"
   ]
  },
  {
   "cell_type": "code",
   "execution_count": 35,
   "metadata": {},
   "outputs": [
    {
     "data": {
      "text/plain": [
       "1.0442862084273377"
      ]
     },
     "execution_count": 35,
     "metadata": {},
     "output_type": "execute_result"
    }
   ],
   "source": [
    "# sharpe ratio\n",
    "mean_return = returns.mean()*365\n",
    "volatility_return = returns.std()*np.sqrt(365)\n",
    "(mean_return - 0.0)/volatility_return"
   ]
  },
  {
   "cell_type": "code",
   "execution_count": 36,
   "metadata": {},
   "outputs": [
    {
     "data": {
      "text/plain": [
       "-32.78078036561705"
      ]
     },
     "execution_count": 36,
     "metadata": {},
     "output_type": "execute_result"
    }
   ],
   "source": [
    "portfolio.sharpe_ratio(risk_free = 0.05)"
   ]
  },
  {
   "cell_type": "markdown",
   "metadata": {},
   "source": [
    "# sharpe ratio"
   ]
  },
  {
   "cell_type": "code",
   "execution_count": 37,
   "metadata": {},
   "outputs": [
    {
     "data": {
      "text/plain": [
       "1.0442862084273377"
      ]
     },
     "execution_count": 37,
     "metadata": {},
     "output_type": "execute_result"
    }
   ],
   "source": [
    "np.sqrt(365)*(returns.mean()/returns.std()) # should be 252 as number of trading days, not calendar days, also - benchmark rate is missing"
   ]
  },
  {
   "cell_type": "code",
   "execution_count": 38,
   "metadata": {},
   "outputs": [
    {
     "data": {
      "text/plain": [
       "0.8677075586020293"
      ]
     },
     "execution_count": 38,
     "metadata": {},
     "output_type": "execute_result"
    }
   ],
   "source": [
    "np.sqrt(252)*(returns.mean()/returns.std())"
   ]
  },
  {
   "cell_type": "code",
   "execution_count": 39,
   "metadata": {},
   "outputs": [
    {
     "data": {
      "text/plain": [
       "0.8677075586020293"
      ]
     },
     "execution_count": 39,
     "metadata": {},
     "output_type": "execute_result"
    }
   ],
   "source": [
    "qs.stats.sharpe(returns)"
   ]
  },
  {
   "cell_type": "code",
   "execution_count": 40,
   "metadata": {},
   "outputs": [
    {
     "data": {
      "text/plain": [
       "return1    0.867708\n",
       "return2    0.867708\n",
       "dtype: float64"
      ]
     },
     "execution_count": 40,
     "metadata": {},
     "output_type": "execute_result"
    }
   ],
   "source": [
    "df_test = pd.DataFrame({'return1':returns, 'return2':returns*2})\n",
    "qs.stats.sharpe(df_test)"
   ]
  },
  {
   "cell_type": "markdown",
   "metadata": {},
   "source": [
    "# calmar ratio"
   ]
  },
  {
   "cell_type": "code",
   "execution_count": 41,
   "metadata": {},
   "outputs": [
    {
     "data": {
      "text/plain": [
       "0.7899150293734258"
      ]
     },
     "execution_count": 41,
     "metadata": {},
     "output_type": "execute_result"
    }
   ],
   "source": [
    "portfolio.calmar_ratio()"
   ]
  },
  {
   "cell_type": "code",
   "execution_count": 42,
   "metadata": {},
   "outputs": [
    {
     "data": {
      "text/plain": [
       "0.509658124498354"
      ]
     },
     "execution_count": 42,
     "metadata": {},
     "output_type": "execute_result"
    }
   ],
   "source": [
    "qs.stats.calmar(returns)"
   ]
  },
  {
   "cell_type": "code",
   "execution_count": 43,
   "metadata": {},
   "outputs": [
    {
     "name": "stdout",
     "output_type": "stream",
     "text": [
      "Help on function calmar in module quantstats.stats:\n",
      "\n",
      "calmar(returns, prepare_returns=True)\n",
      "    Calculates the calmar ratio (CAGR% / MaxDD%)\n",
      "\n"
     ]
    }
   ],
   "source": [
    "help(qs.stats.calmar)"
   ]
  },
  {
   "cell_type": "code",
   "execution_count": 44,
   "metadata": {},
   "outputs": [
    {
     "name": "stdout",
     "output_type": "stream",
     "text": [
      "Annualized Calmar Ratio (Using Geometric Mean Return): 0.001746683173361901\n",
      "Annualized Calmar Ratio (Using CAGR): 0.7899150293734258\n"
     ]
    }
   ],
   "source": [
    "\n",
    "\n",
    "# Example daily returns data (replace with your actual data)\n",
    "daily_returns = returns\n",
    "\n",
    "# Calculate the geometric mean return\n",
    "geometric_mean_return = np.prod(1 + daily_returns) ** (1 / len(daily_returns)) - 1\n",
    "\n",
    "# Calculate the compound annual growth rate (CAGR)\n",
    "beginning_value = 10000  # Initial investment value\n",
    "ending_value = beginning_value * (1 + daily_returns).prod()  # Final investment value\n",
    "investment_period_years = len(daily_returns) / 365  # 252\n",
    "cagr = (ending_value / beginning_value) ** (1 / investment_period_years) - 1\n",
    "\n",
    "# Calculate the maximum drawdown\n",
    "cumulative_returns = (1 + daily_returns).cumprod()\n",
    "peak = cumulative_returns.cummax()\n",
    "drawdown = (cumulative_returns - peak) / peak\n",
    "max_drawdown = drawdown.min()\n",
    "\n",
    "# Calculate the annualized Calmar ratio using both methods\n",
    "calmar_geometric = geometric_mean_return / abs(max_drawdown)\n",
    "calmar_cagr = cagr / abs(max_drawdown)\n",
    "\n",
    "print(\"Annualized Calmar Ratio (Using Geometric Mean Return):\", calmar_geometric)\n",
    "print(\"Annualized Calmar Ratio (Using CAGR):\", calmar_cagr)\n"
   ]
  },
  {
   "cell_type": "markdown",
   "metadata": {},
   "source": [
    "# sortino ratio"
   ]
  },
  {
   "cell_type": "code",
   "execution_count": 45,
   "metadata": {},
   "outputs": [
    {
     "data": {
      "text/plain": [
       "1.5272044867665482"
      ]
     },
     "execution_count": 45,
     "metadata": {},
     "output_type": "execute_result"
    }
   ],
   "source": [
    "portfolio.sortino_ratio()"
   ]
  },
  {
   "cell_type": "code",
   "execution_count": 46,
   "metadata": {},
   "outputs": [
    {
     "data": {
      "text/plain": [
       "1.5272044867665513"
      ]
     },
     "execution_count": 46,
     "metadata": {},
     "output_type": "execute_result"
    }
   ],
   "source": [
    "qs.stats.sortino(returns, annualize=True, periods = 365)"
   ]
  },
  {
   "cell_type": "code",
   "execution_count": 47,
   "metadata": {},
   "outputs": [
    {
     "name": "stdout",
     "output_type": "stream",
     "text": [
      "Help on function sortino in module quantstats.stats:\n",
      "\n",
      "sortino(returns, rf=0, periods=252, annualize=True, smart=False)\n",
      "    Calculates the sortino ratio of access returns\n",
      "    \n",
      "    If rf is non-zero, you must specify periods.\n",
      "    In this case, rf is assumed to be expressed in yearly (annualized) terms\n",
      "    \n",
      "    Calculation is based on this paper by Red Rock Capital\n",
      "    http://www.redrockcapital.com/Sortino__A__Sharper__Ratio_Red_Rock_Capital.pdf\n",
      "\n"
     ]
    }
   ],
   "source": [
    "help(qs.stats.sortino)"
   ]
  },
  {
   "cell_type": "code",
   "execution_count": 48,
   "metadata": {},
   "outputs": [
    {
     "data": {
      "text/plain": [
       "Date\n",
       "2014-09-17    0.000000\n",
       "2014-09-18    0.000000\n",
       "2014-09-19    0.000000\n",
       "2014-09-20    0.000000\n",
       "2014-09-21    0.000000\n",
       "                ...   \n",
       "2023-12-27    0.021694\n",
       "2023-12-28   -0.018760\n",
       "2023-12-29   -0.012397\n",
       "2023-12-30    0.001366\n",
       "2023-12-31    0.002569\n",
       "Length: 3393, dtype: float64"
      ]
     },
     "execution_count": 48,
     "metadata": {},
     "output_type": "execute_result"
    }
   ],
   "source": [
    "returns"
   ]
  },
  {
   "cell_type": "code",
   "execution_count": 49,
   "metadata": {},
   "outputs": [
    {
     "data": {
      "text/plain": [
       "-0.651935263412228"
      ]
     },
     "execution_count": 49,
     "metadata": {},
     "output_type": "execute_result"
    }
   ],
   "source": [
    "qs.stats.max_drawdown(returns)"
   ]
  },
  {
   "cell_type": "code",
   "execution_count": 50,
   "metadata": {},
   "outputs": [
    {
     "name": "stdout",
     "output_type": "stream",
     "text": [
      "Maximum Drawdown: -0.651935263412228\n",
      "Maximum Drawdown Duration: 59\n"
     ]
    }
   ],
   "source": [
    "max_drawdown = qs.stats.max_drawdown(returns)\n",
    "\n",
    "# Calculate drawdown duration\n",
    "drawdowns = qs.stats.to_drawdown_series(returns)\n",
    "drawdown_lengths = drawdowns[drawdowns == 0].groupby((drawdowns != 0).cumsum()).cumcount() + 1\n",
    "max_drawdown_duration = drawdown_lengths.max()\n",
    "\n",
    "print(\"Maximum Drawdown:\", max_drawdown)\n",
    "print(\"Maximum Drawdown Duration:\", max_drawdown_duration)"
   ]
  },
  {
   "cell_type": "code",
   "execution_count": 51,
   "metadata": {},
   "outputs": [
    {
     "data": {
      "text/plain": [
       "Date\n",
       "2014-09-17    0.000000\n",
       "2014-09-18    0.000000\n",
       "2014-09-19    0.000000\n",
       "2014-09-20    0.000000\n",
       "2014-09-21    0.000000\n",
       "                ...   \n",
       "2023-12-27   -0.314245\n",
       "2023-12-28   -0.327110\n",
       "2023-12-29   -0.335452\n",
       "2023-12-30   -0.334544\n",
       "2023-12-31   -0.332835\n",
       "Length: 3393, dtype: float64"
      ]
     },
     "execution_count": 51,
     "metadata": {},
     "output_type": "execute_result"
    }
   ],
   "source": [
    "drawdowns"
   ]
  },
  {
   "cell_type": "code",
   "execution_count": 53,
   "metadata": {},
   "outputs": [
    {
     "data": {
      "text/plain": [
       "-0.651935263412228"
      ]
     },
     "execution_count": 53,
     "metadata": {},
     "output_type": "execute_result"
    }
   ],
   "source": [
    "drawdowns.min()"
   ]
  },
  {
   "cell_type": "code",
   "execution_count": 54,
   "metadata": {},
   "outputs": [
    {
     "data": {
      "text/plain": [
       "<Axes: xlabel='Date'>"
      ]
     },
     "execution_count": 54,
     "metadata": {},
     "output_type": "execute_result"
    },
    {
     "data": {
      "image/png": "[encoded data removed]",
      "text/plain": [
       "<Figure size 1000x600 with 1 Axes>"
      ]
     },
     "metadata": {},
     "output_type": "display_data"
    }
   ],
   "source": [
    "(returns + 1).cumprod().plot()"
   ]
  },
  {
   "cell_type": "code",
   "execution_count": 55,
   "metadata": {},
   "outputs": [
    {
     "data": {
      "text/plain": [
       "-0.651935263412228"
      ]
     },
     "execution_count": 55,
     "metadata": {},
     "output_type": "execute_result"
    }
   ],
   "source": [
    "portfolio.max_drawdown()"
   ]
  },
  {
   "cell_type": "code",
   "execution_count": 57,
   "metadata": {},
   "outputs": [
    {
     "data": {
      "text/plain": [
       "Start                         2014-09-17 00:00:00\n",
       "End                           2023-12-31 00:00:00\n",
       "Period                         3393 days 00:00:00\n",
       "Start Value                                 100.0\n",
       "End Value                             4753.629689\n",
       "Total Return [%]                      4653.629689\n",
       "Benchmark Return [%]                  9141.645302\n",
       "Max Gross Exposure [%]                      100.0\n",
       "Total Fees Paid                               0.0\n",
       "Max Drawdown [%]                        65.193526\n",
       "Max Drawdown Duration           992 days 00:00:00\n",
       "Total Trades                                   38\n",
       "Total Closed Trades                            37\n",
       "Total Open Trades                               1\n",
       "Open Trade PnL                        1668.538436\n",
       "Win Rate [%]                            40.540541\n",
       "Best Trade [%]                         331.447576\n",
       "Worst Trade [%]                        -36.826385\n",
       "Avg Winning Trade [%]                   66.325423\n",
       "Avg Losing Trade [%]                   -11.097991\n",
       "Avg Winning Trade Duration       81 days 04:48:00\n",
       "Avg Losing Trade Duration        29 days 12:00:00\n",
       "Profit Factor                            1.593446\n",
       "Expectancy                              80.678142\n",
       "Sharpe Ratio                             1.044286\n",
       "Calmar Ratio                             0.789915\n",
       "Omega Ratio                              1.247186\n",
       "Sortino Ratio                            1.527204\n",
       "dtype: object"
      ]
     },
     "execution_count": 57,
     "metadata": {},
     "output_type": "execute_result"
    }
   ],
   "source": [
    "portfolio.stats()"
   ]
  },
  {
   "cell_type": "code",
   "execution_count": 70,
   "metadata": {},
   "outputs": [
    {
     "data": {
      "text/plain": [
       "<Axes: xlabel='Date'>"
      ]
     },
     "execution_count": 70,
     "metadata": {},
     "output_type": "execute_result"
    },
    {
     "data": {
      "image/png": "[encoded data removed]",
      "text/plain": [
       "<Figure size 1000x600 with 1 Axes>"
      ]
     },
     "metadata": {},
     "output_type": "display_data"
    }
   ],
   "source": [
    "s = (returns + 1).cumprod()\n",
    "df_mdd = s.to_frame()\n",
    "df_mdd.columns = ['cumulative_returns']\n",
    "df_mdd['cummax'] = df_mdd['cumulative_returns'].cummax()\n",
    "df_mdd['cummax'].plot()"
   ]
  },
  {
   "cell_type": "code",
   "execution_count": 72,
   "metadata": {},
   "outputs": [
    {
     "data": {
      "text/plain": [
       "cummax\n",
       "71.251152    993\n",
       "17.740476    553\n",
       "1.000000     412\n",
       "22.083879    402\n",
       "1.221332     171\n",
       "            ... \n",
       "7.312317       1\n",
       "2.421992       1\n",
       "2.478822       1\n",
       "2.532414       1\n",
       "1.090732       1\n",
       "Name: cumulative_returns, Length: 125, dtype: int64"
      ]
     },
     "execution_count": 72,
     "metadata": {},
     "output_type": "execute_result"
    }
   ],
   "source": [
    "df_mdd.groupby('cummax')['cumulative_returns'].count().sort_values(ascending = False)"
   ]
  },
  {
   "cell_type": "code",
   "execution_count": 77,
   "metadata": {},
   "outputs": [
    {
     "data": {
      "text/plain": [
       "993"
      ]
     },
     "execution_count": 77,
     "metadata": {},
     "output_type": "execute_result"
    }
   ],
   "source": [
    "df_mdd['cummax'].value_counts().head(1).iloc[0]"
   ]
  },
  {
   "cell_type": "code",
   "execution_count": null,
   "metadata": {},
   "outputs": [],
   "source": []
  }
 ],
 "metadata": {
  "kernelspec": {
   "display_name": "py310_calpha",
   "language": "python",
   "name": "python3"
  },
  "language_info": {
   "codemirror_mode": {
    "name": "ipython",
    "version": 3
   },
   "file_extension": ".py",
   "mimetype": "text/x-python",
   "name": "python",
   "nbconvert_exporter": "python",
   "pygments_lexer": "ipython3",
   "version": "3.10.13"
  }
 },
 "nbformat": 4,
 "nbformat_minor": 2
}
