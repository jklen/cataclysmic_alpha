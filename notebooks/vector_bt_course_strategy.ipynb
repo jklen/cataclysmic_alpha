{
 "cells": [
  {
   "cell_type": "markdown",
   "metadata": {},
   "source": [
    "# packages"
   ]
  },
  {
   "cell_type": "code",
   "execution_count": 14,
   "metadata": {},
   "outputs": [],
   "source": [
    "import vectorbt as vbt\n",
    "import numpy as np\n",
    "import pandas as pd\n",
    "from alpaca.trading.client import TradingClient\n",
    "from alpaca.trading.requests import GetAssetsRequest\n",
    "from alpaca.trading.enums import AssetClass, AssetStatus\n",
    "from alpaca.data.historical import CryptoHistoricalDataClient, StockHistoricalDataClient\n",
    "from alpaca.data.requests import CryptoBarsRequest\n",
    "from alpaca.data.timeframe import TimeFrame\n",
    "from datetime import datetime\n",
    "import yaml"
   ]
  },
  {
   "cell_type": "markdown",
   "metadata": {},
   "source": [
    "# get list of stock and crypto symbols"
   ]
  },
  {
   "cell_type": "code",
   "execution_count": 2,
   "metadata": {},
   "outputs": [],
   "source": [
    "keys = yaml.safe_load(open('..\\keys.yaml', 'r'))"
   ]
  },
  {
   "cell_type": "code",
   "execution_count": 3,
   "metadata": {},
   "outputs": [],
   "source": [
    "trading_client = TradingClient(keys['paper_key'], keys['paper_secret'])"
   ]
  },
  {
   "cell_type": "code",
   "execution_count": 4,
   "metadata": {},
   "outputs": [
    {
     "data": {
      "text/plain": [
       "(56,\n",
       " {   'asset_class': <AssetClass.CRYPTO: 'crypto'>,\n",
       "     'attributes': [],\n",
       "     'easy_to_borrow': False,\n",
       "     'exchange': <AssetExchange.CRYPTO: 'CRYPTO'>,\n",
       "     'fractionable': True,\n",
       "     'id': UUID('6a521dc8-c56b-4096-bb84-66e0db2d155d'),\n",
       "     'maintenance_margin_requirement': 100.0,\n",
       "     'marginable': False,\n",
       "     'min_order_size': 1.015228426,\n",
       "     'min_trade_increment': 1e-09,\n",
       "     'name': 'Tezos / US Dollar',\n",
       "     'price_increment': None,\n",
       "     'shortable': False,\n",
       "     'status': <AssetStatus.ACTIVE: 'active'>,\n",
       "     'symbol': 'XTZ/USD',\n",
       "     'tradable': True})"
      ]
     },
     "execution_count": 4,
     "metadata": {},
     "output_type": "execute_result"
    }
   ],
   "source": [
    "search_params = GetAssetsRequest(asset_class = AssetClass.CRYPTO, status = AssetStatus.ACTIVE)\n",
    "crypto_assets = trading_client.get_all_assets(search_params)\n",
    "len(crypto_assets), crypto_assets[0]"
   ]
  },
  {
   "cell_type": "code",
   "execution_count": 5,
   "metadata": {},
   "outputs": [
    {
     "data": {
      "text/html": [
       "<div>\n",
       "<style scoped>\n",
       "    .dataframe tbody tr th:only-of-type {\n",
       "        vertical-align: middle;\n",
       "    }\n",
       "\n",
       "    .dataframe tbody tr th {\n",
       "        vertical-align: top;\n",
       "    }\n",
       "\n",
       "    .dataframe thead th {\n",
       "        text-align: right;\n",
       "    }\n",
       "</style>\n",
       "<table border=\"1\" class=\"dataframe\">\n",
       "  <thead>\n",
       "    <tr style=\"text-align: right;\">\n",
       "      <th></th>\n",
       "      <th>id</th>\n",
       "      <th>asset_class</th>\n",
       "      <th>exchange</th>\n",
       "      <th>symbol</th>\n",
       "      <th>name</th>\n",
       "      <th>status</th>\n",
       "      <th>tradable</th>\n",
       "      <th>marginable</th>\n",
       "      <th>shortable</th>\n",
       "      <th>easy_to_borrow</th>\n",
       "      <th>fractionable</th>\n",
       "      <th>min_order_size</th>\n",
       "      <th>min_trade_increment</th>\n",
       "      <th>price_increment</th>\n",
       "      <th>maintenance_margin_requirement</th>\n",
       "      <th>attributes</th>\n",
       "    </tr>\n",
       "  </thead>\n",
       "  <tbody>\n",
       "    <tr>\n",
       "      <th>0</th>\n",
       "      <td>6a521dc8-c56b-4096-bb84-66e0db2d155d</td>\n",
       "      <td>AssetClass.CRYPTO</td>\n",
       "      <td>AssetExchange.CRYPTO</td>\n",
       "      <td>XTZ/USD</td>\n",
       "      <td>Tezos / US Dollar</td>\n",
       "      <td>AssetStatus.ACTIVE</td>\n",
       "      <td>True</td>\n",
       "      <td>False</td>\n",
       "      <td>False</td>\n",
       "      <td>False</td>\n",
       "      <td>True</td>\n",
       "      <td>1.015228</td>\n",
       "      <td>1.000000e-09</td>\n",
       "      <td>NaN</td>\n",
       "      <td>100.0</td>\n",
       "      <td>[]</td>\n",
       "    </tr>\n",
       "    <tr>\n",
       "      <th>1</th>\n",
       "      <td>83932f5b-533e-4c69-876a-a120b0ae01c1</td>\n",
       "      <td>AssetClass.CRYPTO</td>\n",
       "      <td>AssetExchange.CRYPTO</td>\n",
       "      <td>XTZ/USDC</td>\n",
       "      <td>Tezos / USD Coin</td>\n",
       "      <td>AssetStatus.ACTIVE</td>\n",
       "      <td>True</td>\n",
       "      <td>False</td>\n",
       "      <td>False</td>\n",
       "      <td>False</td>\n",
       "      <td>True</td>\n",
       "      <td>1.024275</td>\n",
       "      <td>1.000000e-09</td>\n",
       "      <td>NaN</td>\n",
       "      <td>100.0</td>\n",
       "      <td>[]</td>\n",
       "    </tr>\n",
       "    <tr>\n",
       "      <th>2</th>\n",
       "      <td>dfb6d1da-427c-42b6-864d-f227af29e2e9</td>\n",
       "      <td>AssetClass.CRYPTO</td>\n",
       "      <td>AssetExchange.CRYPTO</td>\n",
       "      <td>AAVE/USDT</td>\n",
       "      <td>Aave / USD Tether</td>\n",
       "      <td>AssetStatus.ACTIVE</td>\n",
       "      <td>True</td>\n",
       "      <td>False</td>\n",
       "      <td>False</td>\n",
       "      <td>False</td>\n",
       "      <td>True</td>\n",
       "      <td>0.010111</td>\n",
       "      <td>1.000000e-09</td>\n",
       "      <td>0.01</td>\n",
       "      <td>100.0</td>\n",
       "      <td>[]</td>\n",
       "    </tr>\n",
       "    <tr>\n",
       "      <th>3</th>\n",
       "      <td>90a83e2d-e574-404b-9344-74130736b71c</td>\n",
       "      <td>AssetClass.CRYPTO</td>\n",
       "      <td>AssetExchange.CRYPTO</td>\n",
       "      <td>MKR/USD</td>\n",
       "      <td>Maker / US Dollar</td>\n",
       "      <td>AssetStatus.ACTIVE</td>\n",
       "      <td>True</td>\n",
       "      <td>False</td>\n",
       "      <td>False</td>\n",
       "      <td>False</td>\n",
       "      <td>True</td>\n",
       "      <td>0.000777</td>\n",
       "      <td>1.000000e-09</td>\n",
       "      <td>0.50</td>\n",
       "      <td>100.0</td>\n",
       "      <td>[]</td>\n",
       "    </tr>\n",
       "    <tr>\n",
       "      <th>4</th>\n",
       "      <td>d31cd0b3-852c-435b-a1ea-ace997ce550a</td>\n",
       "      <td>AssetClass.CRYPTO</td>\n",
       "      <td>AssetExchange.CRYPTO</td>\n",
       "      <td>MKR/USDC</td>\n",
       "      <td>Maker / USD Coin</td>\n",
       "      <td>AssetStatus.ACTIVE</td>\n",
       "      <td>True</td>\n",
       "      <td>False</td>\n",
       "      <td>False</td>\n",
       "      <td>False</td>\n",
       "      <td>True</td>\n",
       "      <td>0.000714</td>\n",
       "      <td>1.000000e-09</td>\n",
       "      <td>NaN</td>\n",
       "      <td>100.0</td>\n",
       "      <td>[]</td>\n",
       "    </tr>\n",
       "  </tbody>\n",
       "</table>\n",
       "</div>"
      ],
      "text/plain": [
       "                                     id        asset_class  \\\n",
       "0  6a521dc8-c56b-4096-bb84-66e0db2d155d  AssetClass.CRYPTO   \n",
       "1  83932f5b-533e-4c69-876a-a120b0ae01c1  AssetClass.CRYPTO   \n",
       "2  dfb6d1da-427c-42b6-864d-f227af29e2e9  AssetClass.CRYPTO   \n",
       "3  90a83e2d-e574-404b-9344-74130736b71c  AssetClass.CRYPTO   \n",
       "4  d31cd0b3-852c-435b-a1ea-ace997ce550a  AssetClass.CRYPTO   \n",
       "\n",
       "               exchange     symbol               name              status  \\\n",
       "0  AssetExchange.CRYPTO    XTZ/USD  Tezos / US Dollar  AssetStatus.ACTIVE   \n",
       "1  AssetExchange.CRYPTO   XTZ/USDC   Tezos / USD Coin  AssetStatus.ACTIVE   \n",
       "2  AssetExchange.CRYPTO  AAVE/USDT  Aave / USD Tether  AssetStatus.ACTIVE   \n",
       "3  AssetExchange.CRYPTO    MKR/USD  Maker / US Dollar  AssetStatus.ACTIVE   \n",
       "4  AssetExchange.CRYPTO   MKR/USDC   Maker / USD Coin  AssetStatus.ACTIVE   \n",
       "\n",
       "   tradable  marginable  shortable  easy_to_borrow  fractionable  \\\n",
       "0      True       False      False           False          True   \n",
       "1      True       False      False           False          True   \n",
       "2      True       False      False           False          True   \n",
       "3      True       False      False           False          True   \n",
       "4      True       False      False           False          True   \n",
       "\n",
       "   min_order_size  min_trade_increment  price_increment  \\\n",
       "0        1.015228         1.000000e-09              NaN   \n",
       "1        1.024275         1.000000e-09              NaN   \n",
       "2        0.010111         1.000000e-09             0.01   \n",
       "3        0.000777         1.000000e-09             0.50   \n",
       "4        0.000714         1.000000e-09              NaN   \n",
       "\n",
       "   maintenance_margin_requirement attributes  \n",
       "0                           100.0         []  \n",
       "1                           100.0         []  \n",
       "2                           100.0         []  \n",
       "3                           100.0         []  \n",
       "4                           100.0         []  "
      ]
     },
     "execution_count": 5,
     "metadata": {},
     "output_type": "execute_result"
    }
   ],
   "source": [
    "df_crypto_assets = pd.DataFrame([dict(asset) for asset in crypto_assets])\n",
    "df_crypto_assets.head()"
   ]
  },
  {
   "cell_type": "code",
   "execution_count": 6,
   "metadata": {},
   "outputs": [
    {
     "name": "stdout",
     "output_type": "stream",
     "text": [
      "<class 'pandas.core.frame.DataFrame'>\n",
      "RangeIndex: 56 entries, 0 to 55\n",
      "Data columns (total 16 columns):\n",
      " #   Column                          Non-Null Count  Dtype  \n",
      "---  ------                          --------------  -----  \n",
      " 0   id                              56 non-null     object \n",
      " 1   asset_class                     56 non-null     object \n",
      " 2   exchange                        56 non-null     object \n",
      " 3   symbol                          56 non-null     object \n",
      " 4   name                            56 non-null     object \n",
      " 5   status                          56 non-null     object \n",
      " 6   tradable                        56 non-null     bool   \n",
      " 7   marginable                      56 non-null     bool   \n",
      " 8   shortable                       56 non-null     bool   \n",
      " 9   easy_to_borrow                  56 non-null     bool   \n",
      " 10  fractionable                    56 non-null     bool   \n",
      " 11  min_order_size                  56 non-null     float64\n",
      " 12  min_trade_increment             56 non-null     float64\n",
      " 13  price_increment                 34 non-null     float64\n",
      " 14  maintenance_margin_requirement  56 non-null     float64\n",
      " 15  attributes                      56 non-null     object \n",
      "dtypes: bool(5), float64(4), object(7)\n",
      "memory usage: 5.2+ KB\n"
     ]
    }
   ],
   "source": [
    "df_crypto_assets.info()"
   ]
  },
  {
   "cell_type": "markdown",
   "metadata": {},
   "source": [
    "# get list of active stocks"
   ]
  },
  {
   "cell_type": "code",
   "execution_count": 7,
   "metadata": {},
   "outputs": [
    {
     "data": {
      "text/plain": [
       "(11069,\n",
       " {   'asset_class': <AssetClass.US_EQUITY: 'us_equity'>,\n",
       "     'attributes': [],\n",
       "     'easy_to_borrow': False,\n",
       "     'exchange': <AssetExchange.OTC: 'OTC'>,\n",
       "     'fractionable': False,\n",
       "     'id': UUID('f8974a61-2f69-4362-9913-09f9810816b1'),\n",
       "     'maintenance_margin_requirement': 100.0,\n",
       "     'marginable': False,\n",
       "     'min_order_size': None,\n",
       "     'min_trade_increment': None,\n",
       "     'name': 'RITE AID CORP COM PAR $1.00',\n",
       "     'price_increment': None,\n",
       "     'shortable': False,\n",
       "     'status': <AssetStatus.ACTIVE: 'active'>,\n",
       "     'symbol': 'RADCQ',\n",
       "     'tradable': False})"
      ]
     },
     "execution_count": 7,
     "metadata": {},
     "output_type": "execute_result"
    }
   ],
   "source": [
    "search_params = GetAssetsRequest(asset_class = AssetClass.US_EQUITY,status=AssetStatus.ACTIVE)\n",
    "stock_assets = trading_client.get_all_assets(search_params)\n",
    "len(stock_assets), stock_assets[0]"
   ]
  },
  {
   "cell_type": "code",
   "execution_count": 8,
   "metadata": {},
   "outputs": [
    {
     "data": {
      "text/html": [
       "<div>\n",
       "<style scoped>\n",
       "    .dataframe tbody tr th:only-of-type {\n",
       "        vertical-align: middle;\n",
       "    }\n",
       "\n",
       "    .dataframe tbody tr th {\n",
       "        vertical-align: top;\n",
       "    }\n",
       "\n",
       "    .dataframe thead th {\n",
       "        text-align: right;\n",
       "    }\n",
       "</style>\n",
       "<table border=\"1\" class=\"dataframe\">\n",
       "  <thead>\n",
       "    <tr style=\"text-align: right;\">\n",
       "      <th></th>\n",
       "      <th>id</th>\n",
       "      <th>asset_class</th>\n",
       "      <th>exchange</th>\n",
       "      <th>symbol</th>\n",
       "      <th>name</th>\n",
       "      <th>status</th>\n",
       "      <th>tradable</th>\n",
       "      <th>marginable</th>\n",
       "      <th>shortable</th>\n",
       "      <th>easy_to_borrow</th>\n",
       "      <th>fractionable</th>\n",
       "      <th>min_order_size</th>\n",
       "      <th>min_trade_increment</th>\n",
       "      <th>price_increment</th>\n",
       "      <th>maintenance_margin_requirement</th>\n",
       "      <th>attributes</th>\n",
       "    </tr>\n",
       "  </thead>\n",
       "  <tbody>\n",
       "    <tr>\n",
       "      <th>0</th>\n",
       "      <td>f8974a61-2f69-4362-9913-09f9810816b1</td>\n",
       "      <td>AssetClass.US_EQUITY</td>\n",
       "      <td>AssetExchange.OTC</td>\n",
       "      <td>RADCQ</td>\n",
       "      <td>RITE AID CORP COM PAR $1.00</td>\n",
       "      <td>AssetStatus.ACTIVE</td>\n",
       "      <td>False</td>\n",
       "      <td>False</td>\n",
       "      <td>False</td>\n",
       "      <td>False</td>\n",
       "      <td>False</td>\n",
       "      <td>None</td>\n",
       "      <td>None</td>\n",
       "      <td>None</td>\n",
       "      <td>100.0</td>\n",
       "      <td>[]</td>\n",
       "    </tr>\n",
       "    <tr>\n",
       "      <th>1</th>\n",
       "      <td>55d02f3f-6267-4d57-a747-016a26204dfc</td>\n",
       "      <td>AssetClass.US_EQUITY</td>\n",
       "      <td>AssetExchange.OTC</td>\n",
       "      <td>RBCN</td>\n",
       "      <td>RUBICON TECHNOLOGY INC Common Stock</td>\n",
       "      <td>AssetStatus.ACTIVE</td>\n",
       "      <td>False</td>\n",
       "      <td>False</td>\n",
       "      <td>False</td>\n",
       "      <td>False</td>\n",
       "      <td>False</td>\n",
       "      <td>None</td>\n",
       "      <td>None</td>\n",
       "      <td>None</td>\n",
       "      <td>100.0</td>\n",
       "      <td>[]</td>\n",
       "    </tr>\n",
       "    <tr>\n",
       "      <th>2</th>\n",
       "      <td>7c7cbe89-e964-4aa3-bb77-bc0f7f20b617</td>\n",
       "      <td>AssetClass.US_EQUITY</td>\n",
       "      <td>AssetExchange.OTC</td>\n",
       "      <td>LOVLQ</td>\n",
       "      <td>SPARK NETWORKS SE American Depositary Receipts...</td>\n",
       "      <td>AssetStatus.ACTIVE</td>\n",
       "      <td>False</td>\n",
       "      <td>False</td>\n",
       "      <td>False</td>\n",
       "      <td>False</td>\n",
       "      <td>False</td>\n",
       "      <td>None</td>\n",
       "      <td>None</td>\n",
       "      <td>None</td>\n",
       "      <td>100.0</td>\n",
       "      <td>[]</td>\n",
       "    </tr>\n",
       "    <tr>\n",
       "      <th>3</th>\n",
       "      <td>01c162ad-1891-4c59-9428-86e2e5922c1f</td>\n",
       "      <td>AssetClass.US_EQUITY</td>\n",
       "      <td>AssetExchange.OTC</td>\n",
       "      <td>ALPSQ</td>\n",
       "      <td>Alpine Summit Energy Partners, Inc. Class A Su...</td>\n",
       "      <td>AssetStatus.ACTIVE</td>\n",
       "      <td>False</td>\n",
       "      <td>False</td>\n",
       "      <td>False</td>\n",
       "      <td>False</td>\n",
       "      <td>False</td>\n",
       "      <td>None</td>\n",
       "      <td>None</td>\n",
       "      <td>None</td>\n",
       "      <td>100.0</td>\n",
       "      <td>[]</td>\n",
       "    </tr>\n",
       "    <tr>\n",
       "      <th>4</th>\n",
       "      <td>4e872f2e-f5ad-417b-9f12-832fb16c03cb</td>\n",
       "      <td>AssetClass.US_EQUITY</td>\n",
       "      <td>AssetExchange.OTC</td>\n",
       "      <td>BRCNF</td>\n",
       "      <td>Burcon NutraScience Corp.</td>\n",
       "      <td>AssetStatus.ACTIVE</td>\n",
       "      <td>False</td>\n",
       "      <td>False</td>\n",
       "      <td>False</td>\n",
       "      <td>False</td>\n",
       "      <td>False</td>\n",
       "      <td>None</td>\n",
       "      <td>None</td>\n",
       "      <td>None</td>\n",
       "      <td>100.0</td>\n",
       "      <td>[]</td>\n",
       "    </tr>\n",
       "  </tbody>\n",
       "</table>\n",
       "</div>"
      ],
      "text/plain": [
       "                                     id           asset_class  \\\n",
       "0  f8974a61-2f69-4362-9913-09f9810816b1  AssetClass.US_EQUITY   \n",
       "1  55d02f3f-6267-4d57-a747-016a26204dfc  AssetClass.US_EQUITY   \n",
       "2  7c7cbe89-e964-4aa3-bb77-bc0f7f20b617  AssetClass.US_EQUITY   \n",
       "3  01c162ad-1891-4c59-9428-86e2e5922c1f  AssetClass.US_EQUITY   \n",
       "4  4e872f2e-f5ad-417b-9f12-832fb16c03cb  AssetClass.US_EQUITY   \n",
       "\n",
       "            exchange symbol  \\\n",
       "0  AssetExchange.OTC  RADCQ   \n",
       "1  AssetExchange.OTC   RBCN   \n",
       "2  AssetExchange.OTC  LOVLQ   \n",
       "3  AssetExchange.OTC  ALPSQ   \n",
       "4  AssetExchange.OTC  BRCNF   \n",
       "\n",
       "                                                name              status  \\\n",
       "0                        RITE AID CORP COM PAR $1.00  AssetStatus.ACTIVE   \n",
       "1                RUBICON TECHNOLOGY INC Common Stock  AssetStatus.ACTIVE   \n",
       "2  SPARK NETWORKS SE American Depositary Receipts...  AssetStatus.ACTIVE   \n",
       "3  Alpine Summit Energy Partners, Inc. Class A Su...  AssetStatus.ACTIVE   \n",
       "4                          Burcon NutraScience Corp.  AssetStatus.ACTIVE   \n",
       "\n",
       "   tradable  marginable  shortable  easy_to_borrow  fractionable  \\\n",
       "0     False       False      False           False         False   \n",
       "1     False       False      False           False         False   \n",
       "2     False       False      False           False         False   \n",
       "3     False       False      False           False         False   \n",
       "4     False       False      False           False         False   \n",
       "\n",
       "  min_order_size min_trade_increment price_increment  \\\n",
       "0           None                None            None   \n",
       "1           None                None            None   \n",
       "2           None                None            None   \n",
       "3           None                None            None   \n",
       "4           None                None            None   \n",
       "\n",
       "   maintenance_margin_requirement attributes  \n",
       "0                           100.0         []  \n",
       "1                           100.0         []  \n",
       "2                           100.0         []  \n",
       "3                           100.0         []  \n",
       "4                           100.0         []  "
      ]
     },
     "execution_count": 8,
     "metadata": {},
     "output_type": "execute_result"
    }
   ],
   "source": [
    "df_stock_assets = pd.DataFrame([dict(asset) for asset in stock_assets])\n",
    "df_stock_assets.head()"
   ]
  },
  {
   "cell_type": "markdown",
   "metadata": {},
   "source": [
    "# get data - all cryptos"
   ]
  },
  {
   "cell_type": "code",
   "execution_count": 17,
   "metadata": {},
   "outputs": [],
   "source": [
    "client = CryptoHistoricalDataClient()\n",
    "\n",
    "# Creating request object\n",
    "request_params = CryptoBarsRequest(\n",
    "                        symbol_or_symbols=df_crypto_assets['symbol'].tolist(),\n",
    "                        timeframe=TimeFrame.Day,\n",
    "                        start=datetime(2000, 9, 1),\n",
    "                        end=datetime.now()\n",
    "                        )"
   ]
  },
  {
   "cell_type": "code",
   "execution_count": 19,
   "metadata": {},
   "outputs": [
    {
     "data": {
      "text/html": [
       "<div>\n",
       "<style scoped>\n",
       "    .dataframe tbody tr th:only-of-type {\n",
       "        vertical-align: middle;\n",
       "    }\n",
       "\n",
       "    .dataframe tbody tr th {\n",
       "        vertical-align: top;\n",
       "    }\n",
       "\n",
       "    .dataframe thead th {\n",
       "        text-align: right;\n",
       "    }\n",
       "</style>\n",
       "<table border=\"1\" class=\"dataframe\">\n",
       "  <thead>\n",
       "    <tr style=\"text-align: right;\">\n",
       "      <th></th>\n",
       "      <th></th>\n",
       "      <th>open</th>\n",
       "      <th>high</th>\n",
       "      <th>low</th>\n",
       "      <th>close</th>\n",
       "      <th>volume</th>\n",
       "      <th>trade_count</th>\n",
       "      <th>vwap</th>\n",
       "    </tr>\n",
       "    <tr>\n",
       "      <th>symbol</th>\n",
       "      <th>timestamp</th>\n",
       "      <th></th>\n",
       "      <th></th>\n",
       "      <th></th>\n",
       "      <th></th>\n",
       "      <th></th>\n",
       "      <th></th>\n",
       "      <th></th>\n",
       "    </tr>\n",
       "  </thead>\n",
       "  <tbody>\n",
       "    <tr>\n",
       "      <th rowspan=\"5\" valign=\"top\">AAVE/USDC</th>\n",
       "      <th>2023-08-18 05:00:00+00:00</th>\n",
       "      <td>55.943866</td>\n",
       "      <td>56.478969</td>\n",
       "      <td>54.992050</td>\n",
       "      <td>55.944857</td>\n",
       "      <td>0.0</td>\n",
       "      <td>0.0</td>\n",
       "      <td>0.0</td>\n",
       "    </tr>\n",
       "    <tr>\n",
       "      <th>2023-08-19 05:00:00+00:00</th>\n",
       "      <td>55.947874</td>\n",
       "      <td>57.099034</td>\n",
       "      <td>55.560846</td>\n",
       "      <td>56.500850</td>\n",
       "      <td>0.0</td>\n",
       "      <td>0.0</td>\n",
       "      <td>0.0</td>\n",
       "    </tr>\n",
       "    <tr>\n",
       "      <th>2023-08-20 05:00:00+00:00</th>\n",
       "      <td>56.335100</td>\n",
       "      <td>57.579500</td>\n",
       "      <td>56.290500</td>\n",
       "      <td>56.988250</td>\n",
       "      <td>0.0</td>\n",
       "      <td>0.0</td>\n",
       "      <td>0.0</td>\n",
       "    </tr>\n",
       "    <tr>\n",
       "      <th>2023-08-21 05:00:00+00:00</th>\n",
       "      <td>57.032000</td>\n",
       "      <td>57.545000</td>\n",
       "      <td>54.970500</td>\n",
       "      <td>55.066550</td>\n",
       "      <td>0.0</td>\n",
       "      <td>0.0</td>\n",
       "      <td>0.0</td>\n",
       "    </tr>\n",
       "    <tr>\n",
       "      <th>2023-08-22 05:00:00+00:00</th>\n",
       "      <td>55.075200</td>\n",
       "      <td>55.735350</td>\n",
       "      <td>52.795000</td>\n",
       "      <td>55.654250</td>\n",
       "      <td>0.0</td>\n",
       "      <td>0.0</td>\n",
       "      <td>0.0</td>\n",
       "    </tr>\n",
       "    <tr>\n",
       "      <th>...</th>\n",
       "      <th>...</th>\n",
       "      <td>...</td>\n",
       "      <td>...</td>\n",
       "      <td>...</td>\n",
       "      <td>...</td>\n",
       "      <td>...</td>\n",
       "      <td>...</td>\n",
       "      <td>...</td>\n",
       "    </tr>\n",
       "    <tr>\n",
       "      <th rowspan=\"5\" valign=\"top\">YFI/USD</th>\n",
       "      <th>2023-12-20 06:00:00+00:00</th>\n",
       "      <td>8442.777000</td>\n",
       "      <td>8532.646500</td>\n",
       "      <td>8203.149000</td>\n",
       "      <td>8271.045000</td>\n",
       "      <td>0.0</td>\n",
       "      <td>0.0</td>\n",
       "      <td>0.0</td>\n",
       "    </tr>\n",
       "    <tr>\n",
       "      <th>2023-12-21 06:00:00+00:00</th>\n",
       "      <td>8273.455000</td>\n",
       "      <td>8476.670000</td>\n",
       "      <td>8254.135500</td>\n",
       "      <td>8415.417000</td>\n",
       "      <td>0.0</td>\n",
       "      <td>0.0</td>\n",
       "      <td>0.0</td>\n",
       "    </tr>\n",
       "    <tr>\n",
       "      <th>2023-12-22 06:00:00+00:00</th>\n",
       "      <td>8415.272000</td>\n",
       "      <td>8535.400000</td>\n",
       "      <td>8276.495000</td>\n",
       "      <td>8421.941500</td>\n",
       "      <td>0.0</td>\n",
       "      <td>0.0</td>\n",
       "      <td>0.0</td>\n",
       "    </tr>\n",
       "    <tr>\n",
       "      <th>2023-12-23 06:00:00+00:00</th>\n",
       "      <td>8419.337500</td>\n",
       "      <td>8501.595000</td>\n",
       "      <td>8304.850000</td>\n",
       "      <td>8379.280000</td>\n",
       "      <td>0.0</td>\n",
       "      <td>0.0</td>\n",
       "      <td>0.0</td>\n",
       "    </tr>\n",
       "    <tr>\n",
       "      <th>2023-12-24 06:00:00+00:00</th>\n",
       "      <td>8387.244000</td>\n",
       "      <td>8460.402000</td>\n",
       "      <td>8310.606500</td>\n",
       "      <td>8449.305000</td>\n",
       "      <td>0.0</td>\n",
       "      <td>0.0</td>\n",
       "      <td>0.0</td>\n",
       "    </tr>\n",
       "  </tbody>\n",
       "</table>\n",
       "<p>34733 rows × 7 columns</p>\n",
       "</div>"
      ],
      "text/plain": [
       "                                            open         high          low  \\\n",
       "symbol    timestamp                                                          \n",
       "AAVE/USDC 2023-08-18 05:00:00+00:00    55.943866    56.478969    54.992050   \n",
       "          2023-08-19 05:00:00+00:00    55.947874    57.099034    55.560846   \n",
       "          2023-08-20 05:00:00+00:00    56.335100    57.579500    56.290500   \n",
       "          2023-08-21 05:00:00+00:00    57.032000    57.545000    54.970500   \n",
       "          2023-08-22 05:00:00+00:00    55.075200    55.735350    52.795000   \n",
       "...                                          ...          ...          ...   \n",
       "YFI/USD   2023-12-20 06:00:00+00:00  8442.777000  8532.646500  8203.149000   \n",
       "          2023-12-21 06:00:00+00:00  8273.455000  8476.670000  8254.135500   \n",
       "          2023-12-22 06:00:00+00:00  8415.272000  8535.400000  8276.495000   \n",
       "          2023-12-23 06:00:00+00:00  8419.337500  8501.595000  8304.850000   \n",
       "          2023-12-24 06:00:00+00:00  8387.244000  8460.402000  8310.606500   \n",
       "\n",
       "                                           close  volume  trade_count  vwap  \n",
       "symbol    timestamp                                                          \n",
       "AAVE/USDC 2023-08-18 05:00:00+00:00    55.944857     0.0          0.0   0.0  \n",
       "          2023-08-19 05:00:00+00:00    56.500850     0.0          0.0   0.0  \n",
       "          2023-08-20 05:00:00+00:00    56.988250     0.0          0.0   0.0  \n",
       "          2023-08-21 05:00:00+00:00    55.066550     0.0          0.0   0.0  \n",
       "          2023-08-22 05:00:00+00:00    55.654250     0.0          0.0   0.0  \n",
       "...                                          ...     ...          ...   ...  \n",
       "YFI/USD   2023-12-20 06:00:00+00:00  8271.045000     0.0          0.0   0.0  \n",
       "          2023-12-21 06:00:00+00:00  8415.417000     0.0          0.0   0.0  \n",
       "          2023-12-22 06:00:00+00:00  8421.941500     0.0          0.0   0.0  \n",
       "          2023-12-23 06:00:00+00:00  8379.280000     0.0          0.0   0.0  \n",
       "          2023-12-24 06:00:00+00:00  8449.305000     0.0          0.0   0.0  \n",
       "\n",
       "[34733 rows x 7 columns]"
      ]
     },
     "execution_count": 19,
     "metadata": {},
     "output_type": "execute_result"
    }
   ],
   "source": [
    "btc_bars = client.get_crypto_bars(request_params)\n",
    "\n",
    "# Convert to dataframe\n",
    "df_crypto = btc_bars.df\n",
    "df_crypto"
   ]
  },
  {
   "cell_type": "code",
   "execution_count": 21,
   "metadata": {},
   "outputs": [],
   "source": [
    "#df_crypto.to_pickle('..\\\\data\\\\df_crypto_daily.pickle')"
   ]
  },
  {
   "cell_type": "code",
   "execution_count": 22,
   "metadata": {},
   "outputs": [],
   "source": [
    "df_crypto = pd.read_pickle('..\\\\data\\\\df_crypto_daily.pickle')"
   ]
  },
  {
   "cell_type": "markdown",
   "metadata": {},
   "source": [
    "# df_crypto audit"
   ]
  },
  {
   "cell_type": "code",
   "execution_count": 23,
   "metadata": {},
   "outputs": [
    {
     "name": "stdout",
     "output_type": "stream",
     "text": [
      "<class 'pandas.core.frame.DataFrame'>\n",
      "MultiIndex: 34733 entries, ('AAVE/USDC', Timestamp('2023-08-18 05:00:00+0000', tz='UTC')) to ('YFI/USD', Timestamp('2023-12-24 06:00:00+0000', tz='UTC'))\n",
      "Data columns (total 7 columns):\n",
      " #   Column       Non-Null Count  Dtype  \n",
      "---  ------       --------------  -----  \n",
      " 0   open         34733 non-null  float64\n",
      " 1   high         34733 non-null  float64\n",
      " 2   low          34733 non-null  float64\n",
      " 3   close        34733 non-null  float64\n",
      " 4   volume       34733 non-null  float64\n",
      " 5   trade_count  34733 non-null  float64\n",
      " 6   vwap         34733 non-null  float64\n",
      "dtypes: float64(7)\n",
      "memory usage: 2.0+ MB\n"
     ]
    }
   ],
   "source": [
    "df_crypto.info()"
   ]
  },
  {
   "cell_type": "code",
   "execution_count": 25,
   "metadata": {},
   "outputs": [
    {
     "data": {
      "text/plain": [
       "Index(['AAVE/USDC', 'AAVE/USDT', 'AAVE/USD', 'AVAX/USDC', 'AVAX/USDT',\n",
       "       'AVAX/USD', 'BAT/USDC', 'BAT/USD', 'BCH/BTC', 'BCH/USDC', 'BCH/USDT',\n",
       "       'BCH/USD', 'BTC/USDC', 'BTC/USDT', 'BTC/USD', 'CRV/USDC', 'CRV/USD',\n",
       "       'DOGE/USDC', 'DOGE/USDT', 'DOGE/USD', 'DOT/USDC', 'DOT/USD', 'ETH/BTC',\n",
       "       'ETH/USDC', 'ETH/USDT', 'ETH/USD', 'GRT/USD', 'GRT/USDC', 'LINK/BTC',\n",
       "       'LINK/USDC', 'LINK/USDT', 'LINK/USD', 'LTC/BTC', 'LTC/USDC', 'LTC/USDT',\n",
       "       'LTC/USD', 'MKR/USDC', 'MKR/USD', 'SHIB/USDC', 'SHIB/USDT', 'SHIB/USD',\n",
       "       'SUSHI/USDC', 'SUSHI/USDT', 'SUSHI/USD', 'UNI/BTC', 'UNI/USDC',\n",
       "       'UNI/USDT', 'UNI/USD', 'USDC/USD', 'USDT/USDC', 'USDT/USD', 'XTZ/USDC',\n",
       "       'XTZ/USD', 'YFI/USDC', 'YFI/USDT', 'YFI/USD'],\n",
       "      dtype='object', name='symbol')"
      ]
     },
     "execution_count": 25,
     "metadata": {},
     "output_type": "execute_result"
    }
   ],
   "source": [
    "df_crypto.index.get_level_values('symbol').unique()"
   ]
  },
  {
   "cell_type": "code",
   "execution_count": 27,
   "metadata": {},
   "outputs": [
    {
     "data": {
      "text/plain": [
       "Timestamp('2021-01-01 06:00:00+0000', tz='UTC')"
      ]
     },
     "execution_count": 27,
     "metadata": {},
     "output_type": "execute_result"
    }
   ],
   "source": [
    "df_crypto.index.get_level_values('timestamp').min()"
   ]
  },
  {
   "cell_type": "code",
   "execution_count": 38,
   "metadata": {},
   "outputs": [
    {
     "data": {
      "text/plain": [
       "timestamp\n",
       "2021-01-01 06:00:00+00:00    29676.7900\n",
       "2021-01-02 06:00:00+00:00    33769.5200\n",
       "2021-01-03 06:00:00+00:00    32908.0200\n",
       "2021-01-04 06:00:00+00:00    30441.5700\n",
       "2021-01-05 06:00:00+00:00    35063.0000\n",
       "                                ...    \n",
       "2023-12-20 06:00:00+00:00    43503.5500\n",
       "2023-12-21 06:00:00+00:00    44164.6955\n",
       "2023-12-22 06:00:00+00:00    43626.7550\n",
       "2023-12-23 06:00:00+00:00    43501.8450\n",
       "2023-12-24 06:00:00+00:00    43684.9250\n",
       "Name: close, Length: 1088, dtype: float64"
      ]
     },
     "execution_count": 38,
     "metadata": {},
     "output_type": "execute_result"
    }
   ],
   "source": [
    "s_btc = df_crypto.loc[('BTC/USD'), 'close']\n",
    "s_btc"
   ]
  },
  {
   "cell_type": "markdown",
   "metadata": {},
   "source": [
    "# custom indicator"
   ]
  },
  {
   "cell_type": "code",
   "execution_count": 40,
   "metadata": {},
   "outputs": [],
   "source": [
    "#TODO MA crossover strategy built-in vs. custom indicator\n"
   ]
  },
  {
   "cell_type": "code",
   "execution_count": 42,
   "metadata": {},
   "outputs": [
    {
     "name": "stderr",
     "output_type": "stream",
     "text": [
      "C:\\Users\\User\\AppData\\Local\\Temp\\ipykernel_11652\\3972113582.py:6: FutureWarning: Series.__getitem__ treating keys as positions is deprecated. In a future version, integer keys will always be treated as labels (consistent with DataFrame behavior). To access a value by position, use `ser.iloc[pos]`\n",
      "  if close[x] < mavg*lower_multiplier:\n",
      "C:\\Users\\User\\AppData\\Local\\Temp\\ipykernel_11652\\3972113582.py:8: FutureWarning: Series.__getitem__ treating keys as positions is deprecated. In a future version, integer keys will always be treated as labels (consistent with DataFrame behavior). To access a value by position, use `ser.iloc[pos]`\n",
      "  elif close[x] > mavg*upper_multiplier:\n"
     ]
    }
   ],
   "source": [
    "signal = ma_strategy(s_btc)"
   ]
  },
  {
   "cell_type": "code",
   "execution_count": 43,
   "metadata": {},
   "outputs": [
    {
     "data": {
      "text/plain": [
       "count    358.000000\n",
       "mean       0.821229\n",
       "std        0.383697\n",
       "min        0.000000\n",
       "25%        1.000000\n",
       "50%        1.000000\n",
       "75%        1.000000\n",
       "max        1.000000\n",
       "dtype: float64"
      ]
     },
     "execution_count": 43,
     "metadata": {},
     "output_type": "execute_result"
    }
   ],
   "source": [
    "pd.Series(signal).describe()"
   ]
  },
  {
   "cell_type": "code",
   "execution_count": null,
   "metadata": {},
   "outputs": [],
   "source": []
  }
 ],
 "metadata": {
  "kernelspec": {
   "display_name": "py310_calpha",
   "language": "python",
   "name": "python3"
  },
  "language_info": {
   "codemirror_mode": {
    "name": "ipython",
    "version": 3
   },
   "file_extension": ".py",
   "mimetype": "text/x-python",
   "name": "python",
   "nbconvert_exporter": "python",
   "pygments_lexer": "ipython3",
   "version": "3.10.13"
  }
 },
 "nbformat": 4,
 "nbformat_minor": 2
}
