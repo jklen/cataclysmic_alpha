{
 "cells": [
  {
   "cell_type": "markdown",
   "id": "1d81d03c-ab39-4d03-807e-b15cdb079de1",
   "metadata": {},
   "source": [
    "# packages"
   ]
  },
  {
   "cell_type": "code",
   "execution_count": 25,
   "id": "da102e71-7966-4431-a830-274cd780e35b",
   "metadata": {},
   "outputs": [],
   "source": [
    "import requests\n",
    "import json\n",
    "import pprint"
   ]
  },
  {
   "cell_type": "code",
   "execution_count": 16,
   "id": "16d3e60b-66e5-4cad-80e5-3e8bfefce1f5",
   "metadata": {},
   "outputs": [],
   "source": [
    "paper_key = 'PK03QP4W74VY401Y2OEF'\n",
    "paper_secret = 'HDcvk9sAJ6ftJGN9BNg8dHYg4d3Yb01PvIROmGhM'\n",
    "paper_endpoint = 'https://paper-api.alpaca.markets/v2/account'"
   ]
  },
  {
   "cell_type": "code",
   "execution_count": 17,
   "id": "cf50d5d8-ff96-4819-879a-cd4c40289626",
   "metadata": {},
   "outputs": [],
   "source": [
    "auth_json = {'APCA-API-KEY-ID':paper_key,\n",
    "             'APCA-API-SECRET-KEY':paper_secret}"
   ]
  },
  {
   "cell_type": "code",
   "execution_count": 18,
   "id": "925d9d80-6742-498a-92ae-3a44d4bb91ba",
   "metadata": {},
   "outputs": [],
   "source": [
    "r = requests.get(paper_endpoint, headers = auth_json)"
   ]
  },
  {
   "cell_type": "code",
   "execution_count": 19,
   "id": "44b13eb5-aac7-47f5-b4c4-e8d8f37c2086",
   "metadata": {},
   "outputs": [
    {
     "data": {
      "text/plain": [
       "<Response [200]>"
      ]
     },
     "execution_count": 19,
     "metadata": {},
     "output_type": "execute_result"
    }
   ],
   "source": [
    "r"
   ]
  },
  {
   "cell_type": "code",
   "execution_count": 40,
   "id": "fa97b749-c8fc-4a8a-ad45-54d473a4247b",
   "metadata": {},
   "outputs": [
    {
     "data": {
      "text/plain": [
       "{'id': '17a56030-0ca6-4018-b571-b8bc90394b0a',\n",
       " 'admin_configurations': {},\n",
       " 'user_configurations': None,\n",
       " 'account_number': 'PA3QV61P0PVL',\n",
       " 'status': 'ACTIVE',\n",
       " 'crypto_status': 'ACTIVE',\n",
       " 'currency': 'USD',\n",
       " 'buying_power': '200000',\n",
       " 'regt_buying_power': '200000',\n",
       " 'daytrading_buying_power': '0',\n",
       " 'effective_buying_power': '200000',\n",
       " 'non_marginable_buying_power': '100000',\n",
       " 'bod_dtbp': '0',\n",
       " 'cash': '100000',\n",
       " 'accrued_fees': '0',\n",
       " 'pending_transfer_in': '0',\n",
       " 'portfolio_value': '100000',\n",
       " 'pattern_day_trader': False,\n",
       " 'trading_blocked': False,\n",
       " 'transfers_blocked': False,\n",
       " 'account_blocked': False,\n",
       " 'created_at': '2023-11-28T10:32:47.048553Z',\n",
       " 'trade_suspended_by_user': False,\n",
       " 'multiplier': '2',\n",
       " 'shorting_enabled': True,\n",
       " 'equity': '100000',\n",
       " 'last_equity': '100000',\n",
       " 'long_market_value': '0',\n",
       " 'short_market_value': '0',\n",
       " 'position_market_value': '0',\n",
       " 'initial_margin': '0',\n",
       " 'maintenance_margin': '0',\n",
       " 'last_maintenance_margin': '0',\n",
       " 'sma': '100000',\n",
       " 'daytrade_count': 0,\n",
       " 'balance_asof': '2023-11-30',\n",
       " 'crypto_tier': 1}"
      ]
     },
     "execution_count": 40,
     "metadata": {},
     "output_type": "execute_result"
    }
   ],
   "source": [
    "json.loads(r.text)"
   ]
  },
  {
   "cell_type": "code",
   "execution_count": null,
   "id": "1fd3f9d7-7ba9-4d5b-a0c1-dbb267d6e156",
   "metadata": {},
   "outputs": [],
   "source": []
  }
 ],
 "metadata": {
  "kernelspec": {
   "display_name": "py311_calpha",
   "language": "python",
   "name": "py311_calpha"
  },
  "language_info": {
   "codemirror_mode": {
    "name": "ipython",
    "version": 3
   },
   "file_extension": ".py",
   "mimetype": "text/x-python",
   "name": "python",
   "nbconvert_exporter": "python",
   "pygments_lexer": "ipython3",
   "version": "3.11.6"
  }
 },
 "nbformat": 4,
 "nbformat_minor": 5
}
